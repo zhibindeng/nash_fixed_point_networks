{
 "cells": [
  {
   "cell_type": "markdown",
   "metadata": {},
   "source": [
    "## Readme\n",
    "\n",
    "Place this file in the ```_scripts``` folder within the transportation networks repo.   "
   ]
  },
  {
   "cell_type": "code",
   "execution_count": 1,
   "metadata": {},
   "outputs": [],
   "source": [
    "import os\n",
    "import sys\n",
    "import numpy as np\n",
    "import pandas as pd\n",
    "import openmatrix as omx\n",
    "import pickle as p"
   ]
  },
  {
   "cell_type": "code",
   "execution_count": 2,
   "metadata": {},
   "outputs": [
    {
     "data": {
      "text/plain": [
       "'/Users/danielmckenzie/Google_Drive/Research/Fixed_Point_Networks/TransportationNetworks'"
      ]
     },
     "execution_count": 2,
     "metadata": {},
     "output_type": "execute_result"
    }
   ],
   "source": [
    "# Assume you have not changed the relative paths after cloning the repository\n",
    "root = os.path.dirname(os.path.abspath('.'))\n",
    "root"
   ]
  },
  {
   "cell_type": "code",
   "execution_count": 3,
   "metadata": {},
   "outputs": [],
   "source": [
    "# This function imports trip data and then saves in Open MAtrix (OMX) format.\n",
    "#\n",
    "def import_matrix(matfile):\n",
    "    f = open(matfile, 'r')\n",
    "    all_rows = f.read()\n",
    "    blocks = all_rows.split('Origin')[1:]\n",
    "    matrix = {}\n",
    "    for k in range(len(blocks)):\n",
    "        orig = blocks[k].split('\\n')\n",
    "        dests = orig[1:]\n",
    "        orig=int(orig[0])\n",
    "\n",
    "        d = [eval('{'+a.replace(';',',').replace(' ','') +'}') for a in dests]\n",
    "        destinations = {}\n",
    "        for i in d:\n",
    "            destinations = {**destinations, **i}\n",
    "        matrix[orig] = destinations\n",
    "    zones = max(matrix.keys())\n",
    "    mat = np.zeros((zones, zones))\n",
    "    for i in range(zones):\n",
    "        for j in range(zones):\n",
    "            # We map values to a index i-1, as Numpy is base 0\n",
    "            mat[i, j] = matrix.get(i+1,{}).get(j+1,0)\n",
    "\n",
    "    index = np.arange(zones) + 1\n",
    "\n",
    "    myfile = omx.open_file('demand.omx','w')\n",
    "    myfile['matrix'] = mat\n",
    "    myfile.create_mapping('taz', index)\n",
    "    myfile.close()"
   ]
  },
  {
   "cell_type": "code",
   "execution_count": 5,
   "metadata": {},
   "outputs": [],
   "source": [
    "mod = os.path.join(root, 'SiouxFalls')\n",
    "mod_files = os.listdir(mod)\n",
    "source_file = os.path.join(mod, 'SiouxFalls_trips.tntp')\n",
    "import_matrix(source_file) # import data and save as demand.omx"
   ]
  },
  {
   "cell_type": "code",
   "execution_count": 7,
   "metadata": {},
   "outputs": [
    {
     "name": "stdout",
     "output_type": "stream",
     "text": [
      "Shape: (24, 24)\n",
      "Number of tables: 1\n",
      "Table names: ['matrix']\n"
     ]
    }
   ],
   "source": [
    "Trip_data = omx.open_file('demand.omx') # open the omx file\n",
    "# A few nice commands to look at the metadata of an omx file\n",
    "print('Shape:', Trip_data.shape())\n",
    "print('Number of tables:', len(Trip_data))\n",
    "print('Table names:', Trip_data.list_matrices())"
   ]
  },
  {
   "cell_type": "code",
   "execution_count": 8,
   "metadata": {},
   "outputs": [],
   "source": [
    "Trips = Trip_data['matrix']\n",
    "# I'm pretty sure that NumOrigins = NumVertices for all traffic networks in this data set.\n",
    "# For robustness, I'm keeping them separate for now. \n",
    "NumOrigins = Trip_data.shape()[0] \n",
    "NumVertices = 24 # Number of vertices in the graph\n",
    "b_vectors = []\n",
    "for i in range(NumOrigins):\n",
    "    for j in range(NumOrigins):\n",
    "        Amount_of_traffic = Trips[i,j]\n",
    "        if Amount_of_traffic != 0.0:\n",
    "            b_new = np.zeros(NumVertices)\n",
    "            b_new[i] = -Amount_of_traffic\n",
    "            b_new[j] = Amount_of_traffic\n",
    "            b_vectors.append(b_new)"
   ]
  },
  {
   "cell_type": "code",
   "execution_count": 9,
   "metadata": {},
   "outputs": [],
   "source": [
    "Trip_data.close() # Close the file"
   ]
  },
  {
   "cell_type": "code",
   "execution_count": 14,
   "metadata": {},
   "outputs": [
    {
     "name": "stdout",
     "output_type": "stream",
     "text": [
      "[-200.    0.    0.    0.  200.    0.    0.    0.    0.    0.    0.    0.\n",
      "    0.    0.    0.    0.    0.    0.    0.    0.    0.    0.    0.    0.]\n",
      "Number of b vectors is 528\n"
     ]
    }
   ],
   "source": [
    "# Sanity check\n",
    "print(b_vectors[3])\n",
    "print('Number of b vectors is ' + str(len(b_vectors)))"
   ]
  },
  {
   "cell_type": "code",
   "execution_count": 15,
   "metadata": {},
   "outputs": [],
   "source": [
    "# Save b vectors into pickle format for easy transfer\n",
    "p.dump(b_vectors, open(\"b_vectors.p\", \"wb\"))"
   ]
  },
  {
   "cell_type": "code",
   "execution_count": 16,
   "metadata": {},
   "outputs": [],
   "source": [
    "# Loading from a pickle file\n",
    "b_vectors = p.load(open(\"b_vectors.p\", \"rb\"))"
   ]
  },
  {
   "cell_type": "code",
   "execution_count": null,
   "metadata": {},
   "outputs": [],
   "source": []
  }
 ],
 "metadata": {
  "kernelspec": {
   "display_name": "Python 3",
   "language": "python",
   "name": "python3"
  },
  "language_info": {
   "codemirror_mode": {
    "name": "ipython",
    "version": 3
   },
   "file_extension": ".py",
   "mimetype": "text/x-python",
   "name": "python",
   "nbconvert_exporter": "python",
   "pygments_lexer": "ipython3",
   "version": "3.7.3"
  }
 },
 "nbformat": 4,
 "nbformat_minor": 4
}
